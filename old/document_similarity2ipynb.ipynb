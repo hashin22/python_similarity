{
 "cells": [
  {
   "cell_type": "code",
   "execution_count": 22,
   "id": "e7075a6a",
   "metadata": {},
   "outputs": [
    {
     "ename": "JVMNotFoundException",
     "evalue": "No JVM shared library file (jvm.dll) found. Try setting up the JAVA_HOME environment variable properly.",
     "output_type": "error",
     "traceback": [
      "\u001b[31m---------------------------------------------------------------------------\u001b[39m",
      "\u001b[31mJVMNotFoundException\u001b[39m                      Traceback (most recent call last)",
      "\u001b[36mCell\u001b[39m\u001b[36m \u001b[39m\u001b[32mIn[22]\u001b[39m\u001b[32m, line 7\u001b[39m\n\u001b[32m      4\u001b[39m \u001b[38;5;28;01mfrom\u001b[39;00m\u001b[38;5;250m \u001b[39m\u001b[34;01mkonlpy\u001b[39;00m\u001b[34;01m.\u001b[39;00m\u001b[34;01mtag\u001b[39;00m\u001b[38;5;250m \u001b[39m\u001b[38;5;28;01mimport\u001b[39;00m Okt\n\u001b[32m      6\u001b[39m \u001b[38;5;66;03m# 한글 형태소 분석 객체 생성\u001b[39;00m\n\u001b[32m----> \u001b[39m\u001b[32m7\u001b[39m okt = \u001b[43mOkt\u001b[49m\u001b[43m(\u001b[49m\u001b[43m)\u001b[49m\n",
      "\u001b[36mFile \u001b[39m\u001b[32mc:\\Users\\Admin\\AppData\\Local\\Programs\\Python\\Python311\\Lib\\site-packages\\konlpy\\tag\\_okt.py:51\u001b[39m, in \u001b[36mOkt.__init__\u001b[39m\u001b[34m(self, jvmpath, max_heap_size)\u001b[39m\n\u001b[32m     49\u001b[39m \u001b[38;5;28;01mdef\u001b[39;00m\u001b[38;5;250m \u001b[39m\u001b[34m__init__\u001b[39m(\u001b[38;5;28mself\u001b[39m, jvmpath=\u001b[38;5;28;01mNone\u001b[39;00m, max_heap_size=\u001b[32m1024\u001b[39m):\n\u001b[32m     50\u001b[39m     \u001b[38;5;28;01mif\u001b[39;00m \u001b[38;5;129;01mnot\u001b[39;00m jpype.isJVMStarted():\n\u001b[32m---> \u001b[39m\u001b[32m51\u001b[39m         \u001b[43mjvm\u001b[49m\u001b[43m.\u001b[49m\u001b[43minit_jvm\u001b[49m\u001b[43m(\u001b[49m\u001b[43mjvmpath\u001b[49m\u001b[43m,\u001b[49m\u001b[43m \u001b[49m\u001b[43mmax_heap_size\u001b[49m\u001b[43m)\u001b[49m\n\u001b[32m     53\u001b[39m     oktJavaPackage = jpype.JPackage(\u001b[33m'\u001b[39m\u001b[33mkr.lucypark.okt\u001b[39m\u001b[33m'\u001b[39m)\n\u001b[32m     54\u001b[39m     OktInterfaceJavaClass = oktJavaPackage.OktInterface\n",
      "\u001b[36mFile \u001b[39m\u001b[32mc:\\Users\\Admin\\AppData\\Local\\Programs\\Python\\Python311\\Lib\\site-packages\\konlpy\\jvm.py:55\u001b[39m, in \u001b[36minit_jvm\u001b[39m\u001b[34m(jvmpath, max_heap_size)\u001b[39m\n\u001b[32m     52\u001b[39m args = [javadir, os.sep]\n\u001b[32m     53\u001b[39m classpath = [f.format(*args) \u001b[38;5;28;01mfor\u001b[39;00m f \u001b[38;5;129;01min\u001b[39;00m folder_suffix]\n\u001b[32m---> \u001b[39m\u001b[32m55\u001b[39m jvmpath = jvmpath \u001b[38;5;129;01mor\u001b[39;00m \u001b[43mjpype\u001b[49m\u001b[43m.\u001b[49m\u001b[43mgetDefaultJVMPath\u001b[49m\u001b[43m(\u001b[49m\u001b[43m)\u001b[49m\n\u001b[32m     57\u001b[39m \u001b[38;5;66;03m# NOTE: Temporary patch for Issue #76. Erase when possible.\u001b[39;00m\n\u001b[32m     58\u001b[39m \u001b[38;5;28;01mif\u001b[39;00m sys.platform == \u001b[33m'\u001b[39m\u001b[33mdarwin\u001b[39m\u001b[33m'\u001b[39m\\\n\u001b[32m     59\u001b[39m         \u001b[38;5;129;01mand\u001b[39;00m jvmpath.find(\u001b[33m'\u001b[39m\u001b[33m1.8.0\u001b[39m\u001b[33m'\u001b[39m) > \u001b[32m0\u001b[39m\\\n\u001b[32m     60\u001b[39m         \u001b[38;5;129;01mand\u001b[39;00m jvmpath.endswith(\u001b[33m'\u001b[39m\u001b[33mlibjvm.dylib\u001b[39m\u001b[33m'\u001b[39m):\n",
      "\u001b[36mFile \u001b[39m\u001b[32mc:\\Users\\Admin\\AppData\\Local\\Programs\\Python\\Python311\\Lib\\site-packages\\jpype\\_jvmfinder.py:70\u001b[39m, in \u001b[36mgetDefaultJVMPath\u001b[39m\u001b[34m()\u001b[39m\n\u001b[32m     68\u001b[39m \u001b[38;5;28;01melse\u001b[39;00m:\n\u001b[32m     69\u001b[39m     finder = LinuxJVMFinder()\n\u001b[32m---> \u001b[39m\u001b[32m70\u001b[39m \u001b[38;5;28;01mreturn\u001b[39;00m \u001b[43mfinder\u001b[49m\u001b[43m.\u001b[49m\u001b[43mget_jvm_path\u001b[49m\u001b[43m(\u001b[49m\u001b[43m)\u001b[49m\n",
      "\u001b[36mFile \u001b[39m\u001b[32mc:\\Users\\Admin\\AppData\\Local\\Programs\\Python\\Python311\\Lib\\site-packages\\jpype\\_jvmfinder.py:204\u001b[39m, in \u001b[36mJVMFinder.get_jvm_path\u001b[39m\u001b[34m(self)\u001b[39m\n\u001b[32m    202\u001b[39m \u001b[38;5;28;01mif\u001b[39;00m jvm_notsupport_ext \u001b[38;5;129;01mis\u001b[39;00m \u001b[38;5;129;01mnot\u001b[39;00m \u001b[38;5;28;01mNone\u001b[39;00m:\n\u001b[32m    203\u001b[39m     \u001b[38;5;28;01mraise\u001b[39;00m jvm_notsupport_ext\n\u001b[32m--> \u001b[39m\u001b[32m204\u001b[39m \u001b[38;5;28;01mraise\u001b[39;00m JVMNotFoundException(\u001b[33m\"\u001b[39m\u001b[33mNo JVM shared library file (\u001b[39m\u001b[38;5;132;01m{0}\u001b[39;00m\u001b[33m) \u001b[39m\u001b[33m\"\u001b[39m\n\u001b[32m    205\u001b[39m                            \u001b[33m\"\u001b[39m\u001b[33mfound. Try setting up the JAVA_HOME \u001b[39m\u001b[33m\"\u001b[39m\n\u001b[32m    206\u001b[39m                            \u001b[33m\"\u001b[39m\u001b[33menvironment variable properly.\u001b[39m\u001b[33m\"\u001b[39m\n\u001b[32m    207\u001b[39m                            .format(\u001b[38;5;28mself\u001b[39m._libfile))\n",
      "\u001b[31mJVMNotFoundException\u001b[39m: No JVM shared library file (jvm.dll) found. Try setting up the JAVA_HOME environment variable properly."
     ]
    }
   ],
   "source": [
    "#pip install konlpy\n",
    "\n",
    "import pandas as pd \n",
    "from konlpy.tag import Okt\n",
    "\n",
    "# 한글 형태소 분석 객체 생성\n",
    "okt = Okt()"
   ]
  },
  {
   "cell_type": "code",
   "execution_count": null,
   "id": "29634e94",
   "metadata": {},
   "outputs": [],
   "source": [
    "\n",
    "def jaccard_similarity(text1, text2):\n",
    "    text1_tokens = set(okt.nouns(text1))\n",
    "    text2_tokens = set(okt.nouns(text2))\n",
    "# 유사도계산\n",
    "    union = text1_tokens.union(text2_tokens)\n",
    "    intersection = text1_tokens.intersection(text2_tokens)\n",
    "\n",
    "    if len(union) == 0:\n",
    "        return 0.0\n",
    "    return round(len(intersection) / len(union),4)"
   ]
  },
  {
   "cell_type": "code",
   "execution_count": null,
   "id": "c47006dc",
   "metadata": {},
   "outputs": [],
   "source": [
    "# 엑셀파일 불러오기\n",
    "doc1_df = pd.read_excel('data\\\\TOBE_제품확대.xlsx')\n",
    "doc2_df = pd.read_excel('data\\\\발화데이터_ASIS.xlsx')\n",
    "\n",
    "# 결과 저장 리스트\n",
    "results = []"
   ]
  },
  {
   "cell_type": "code",
   "execution_count": null,
   "id": "77a50b21",
   "metadata": {},
   "outputs": [],
   "source": [
    "# 모든 문장 비교 후 유사도 계산\n",
    "for i in range(len(doc1_df)) :\n",
    "    text1 = doc1_df.iloc[i, 0] # 첫번째 파일 문장\n",
    "    max_similarity = 0\n",
    "    best_match = \"\"\n",
    "    \n",
    "    for j in range(len(doc2_df)):\n",
    "        text2 = doc2_df.iloc[j, 0] #두번째 파일 문장\n",
    "        similarity = jaccard_similarity(text1, text2)\n",
    "        if similarity > max_similarity: #가장 유사도 높은 문장 저장\n",
    "            max_similarity = similarity\n",
    "            best_match = text2\n",
    "            \n",
    "    results.append({\n",
    "        '인텐트': text1,\n",
    "        '발화데이터' : best_match,\n",
    "        '유사도' : max_similarity\n",
    "    })"
   ]
  },
  {
   "cell_type": "code",
   "execution_count": null,
   "id": "b5597e55",
   "metadata": {},
   "outputs": [],
   "source": [
    "\n",
    "# 결과를 데이터프레임으로 변환\n",
    "result_df = pd.DataFrame(results)\n",
    "\n",
    "# 엑셀로 저장\n",
    "result_df.to_excel('result\\\\similarity0613_retry.xlsx', index=False)\n",
    "print(\"최고 유사도 계산 완료 및 저장\")"
   ]
  }
 ],
 "metadata": {
  "kernelspec": {
   "display_name": "Python 3",
   "language": "python",
   "name": "python3"
  },
  "language_info": {
   "codemirror_mode": {
    "name": "ipython",
    "version": 3
   },
   "file_extension": ".py",
   "mimetype": "text/x-python",
   "name": "python",
   "nbconvert_exporter": "python",
   "pygments_lexer": "ipython3",
   "version": "3.11.9"
  }
 },
 "nbformat": 4,
 "nbformat_minor": 5
}
